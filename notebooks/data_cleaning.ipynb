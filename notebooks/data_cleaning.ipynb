{
 "cells": [
  {
   "cell_type": "markdown",
   "id": "9dc5f143-c61c-4381-8a09-107d30269c99",
   "metadata": {},
   "source": [
    "# Data Cleaning\n",
    "\n",
    "This jupyter notebook file is responsible for cleaning and manipulation the data. "
   ]
  },
  {
   "cell_type": "code",
   "execution_count": 1,
   "id": "42133d40-35f2-4af2-ba9b-da7f5417127f",
   "metadata": {},
   "outputs": [],
   "source": [
    "# imports\n",
    "import pandas as pd"
   ]
  },
  {
   "cell_type": "code",
   "execution_count": 2,
   "id": "32577db3-b4a5-46ff-ad40-3d2562120704",
   "metadata": {},
   "outputs": [],
   "source": [
    "df = pd.read_csv(\"../data/highest_salary.csv\", index_col = \"Rank\")"
   ]
  },
  {
   "cell_type": "code",
   "execution_count": 3,
   "id": "fc2b7453-ee4e-4a1d-b496-47f7a2d24f25",
   "metadata": {},
   "outputs": [
    {
     "data": {
      "text/html": [
       "<div>\n",
       "<style scoped>\n",
       "    .dataframe tbody tr th:only-of-type {\n",
       "        vertical-align: middle;\n",
       "    }\n",
       "\n",
       "    .dataframe tbody tr th {\n",
       "        vertical-align: top;\n",
       "    }\n",
       "\n",
       "    .dataframe thead th {\n",
       "        text-align: right;\n",
       "    }\n",
       "</style>\n",
       "<table border=\"1\" class=\"dataframe\">\n",
       "  <thead>\n",
       "    <tr style=\"text-align: right;\">\n",
       "      <th></th>\n",
       "      <th>Major</th>\n",
       "      <th>Degree Type</th>\n",
       "      <th>Early Career Pay</th>\n",
       "      <th>Mid-Career Pay</th>\n",
       "      <th>% High Meaning</th>\n",
       "    </tr>\n",
       "    <tr>\n",
       "      <th>Rank</th>\n",
       "      <th></th>\n",
       "      <th></th>\n",
       "      <th></th>\n",
       "      <th></th>\n",
       "      <th></th>\n",
       "    </tr>\n",
       "  </thead>\n",
       "  <tbody>\n",
       "    <tr>\n",
       "      <th>1</th>\n",
       "      <td>Petroleum Engineering</td>\n",
       "      <td>Bachelors</td>\n",
       "      <td>$98,100</td>\n",
       "      <td>$212,100</td>\n",
       "      <td>60%</td>\n",
       "    </tr>\n",
       "    <tr>\n",
       "      <th>2</th>\n",
       "      <td>Operations Research &amp; Industrial Engineering</td>\n",
       "      <td>Bachelors</td>\n",
       "      <td>$101,200</td>\n",
       "      <td>$202,600</td>\n",
       "      <td>21%</td>\n",
       "    </tr>\n",
       "    <tr>\n",
       "      <th>3</th>\n",
       "      <td>Electrical Engineering &amp; Computer Science (EECS)</td>\n",
       "      <td>Bachelors</td>\n",
       "      <td>$128,500</td>\n",
       "      <td>$192,300</td>\n",
       "      <td>45%</td>\n",
       "    </tr>\n",
       "    <tr>\n",
       "      <th>4</th>\n",
       "      <td>Interaction Design</td>\n",
       "      <td>Bachelors</td>\n",
       "      <td>$77,400</td>\n",
       "      <td>$178,800</td>\n",
       "      <td>55%</td>\n",
       "    </tr>\n",
       "    <tr>\n",
       "      <th>5</th>\n",
       "      <td>Building Science</td>\n",
       "      <td>Bachelors</td>\n",
       "      <td>$71,100</td>\n",
       "      <td>$172,400</td>\n",
       "      <td>46%</td>\n",
       "    </tr>\n",
       "  </tbody>\n",
       "</table>\n",
       "</div>"
      ],
      "text/plain": [
       "                                                 Major Degree Type  \\\n",
       "Rank                                                                 \n",
       "1                                Petroleum Engineering   Bachelors   \n",
       "2         Operations Research & Industrial Engineering   Bachelors   \n",
       "3     Electrical Engineering & Computer Science (EECS)   Bachelors   \n",
       "4                                   Interaction Design   Bachelors   \n",
       "5                                     Building Science   Bachelors   \n",
       "\n",
       "     Early Career Pay Mid-Career Pay % High Meaning  \n",
       "Rank                                                 \n",
       "1             $98,100       $212,100            60%  \n",
       "2            $101,200       $202,600            21%  \n",
       "3            $128,500       $192,300            45%  \n",
       "4             $77,400       $178,800            55%  \n",
       "5             $71,100       $172,400            46%  "
      ]
     },
     "execution_count": 3,
     "metadata": {},
     "output_type": "execute_result"
    }
   ],
   "source": [
    "df.head()"
   ]
  },
  {
   "cell_type": "code",
   "execution_count": 4,
   "id": "8b7371ab-b888-4d52-b114-612e1f687d0e",
   "metadata": {},
   "outputs": [
    {
     "name": "stdout",
     "output_type": "stream",
     "text": [
      "<class 'pandas.core.frame.DataFrame'>\n",
      "Index: 763 entries, 1 to 763\n",
      "Data columns (total 5 columns):\n",
      " #   Column            Non-Null Count  Dtype \n",
      "---  ------            --------------  ----- \n",
      " 0   Major             763 non-null    object\n",
      " 1   Degree Type       763 non-null    object\n",
      " 2   Early Career Pay  763 non-null    object\n",
      " 3   Mid-Career Pay    763 non-null    object\n",
      " 4   % High Meaning    763 non-null    object\n",
      "dtypes: object(5)\n",
      "memory usage: 35.8+ KB\n"
     ]
    }
   ],
   "source": [
    "df.info()"
   ]
  },
  {
   "cell_type": "markdown",
   "id": "0eb86eba-c07d-47de-aaa1-4844357c0293",
   "metadata": {},
   "source": [
    "I see that all of the cols are type object. However, wouldn't you agree if **Early Career Pay**, **Mid-Career Pay** and **% High Meaning** are int64?\n",
    "\n",
    "Before conversion of dtypes, let first remove the **,** **$** and **%**"
   ]
  },
  {
   "cell_type": "code",
   "execution_count": 5,
   "id": "fb9120c7-5495-499e-a2f4-8c06ee244583",
   "metadata": {},
   "outputs": [],
   "source": [
    "df['Early Career Pay'] = df['Early Career Pay'].str.replace('[,$]', '', regex = True)"
   ]
  },
  {
   "cell_type": "code",
   "execution_count": 6,
   "id": "b8643b0e-a0b5-487f-9848-aac46d20a0e5",
   "metadata": {},
   "outputs": [],
   "source": [
    "df['Mid-Career Pay'] = df['Mid-Career Pay'].str.replace('[,$]', '', regex = True)"
   ]
  },
  {
   "cell_type": "code",
   "execution_count": 7,
   "id": "e5ff537f-edab-4fb0-9b8c-057f2b153670",
   "metadata": {},
   "outputs": [],
   "source": [
    "df['% High Meaning'] = df['% High Meaning'].str.replace('[%]', '', regex = True)"
   ]
  },
  {
   "cell_type": "code",
   "execution_count": 8,
   "id": "a7a93967-9f0e-4178-8c69-247dc45966cc",
   "metadata": {},
   "outputs": [
    {
     "data": {
      "text/html": [
       "<div>\n",
       "<style scoped>\n",
       "    .dataframe tbody tr th:only-of-type {\n",
       "        vertical-align: middle;\n",
       "    }\n",
       "\n",
       "    .dataframe tbody tr th {\n",
       "        vertical-align: top;\n",
       "    }\n",
       "\n",
       "    .dataframe thead th {\n",
       "        text-align: right;\n",
       "    }\n",
       "</style>\n",
       "<table border=\"1\" class=\"dataframe\">\n",
       "  <thead>\n",
       "    <tr style=\"text-align: right;\">\n",
       "      <th></th>\n",
       "      <th>Major</th>\n",
       "      <th>Degree Type</th>\n",
       "      <th>Early Career Pay</th>\n",
       "      <th>Mid-Career Pay</th>\n",
       "      <th>% High Meaning</th>\n",
       "    </tr>\n",
       "    <tr>\n",
       "      <th>Rank</th>\n",
       "      <th></th>\n",
       "      <th></th>\n",
       "      <th></th>\n",
       "      <th></th>\n",
       "      <th></th>\n",
       "    </tr>\n",
       "  </thead>\n",
       "  <tbody>\n",
       "    <tr>\n",
       "      <th>1</th>\n",
       "      <td>Petroleum Engineering</td>\n",
       "      <td>Bachelors</td>\n",
       "      <td>98100</td>\n",
       "      <td>212100</td>\n",
       "      <td>60</td>\n",
       "    </tr>\n",
       "    <tr>\n",
       "      <th>2</th>\n",
       "      <td>Operations Research &amp; Industrial Engineering</td>\n",
       "      <td>Bachelors</td>\n",
       "      <td>101200</td>\n",
       "      <td>202600</td>\n",
       "      <td>21</td>\n",
       "    </tr>\n",
       "    <tr>\n",
       "      <th>3</th>\n",
       "      <td>Electrical Engineering &amp; Computer Science (EECS)</td>\n",
       "      <td>Bachelors</td>\n",
       "      <td>128500</td>\n",
       "      <td>192300</td>\n",
       "      <td>45</td>\n",
       "    </tr>\n",
       "    <tr>\n",
       "      <th>4</th>\n",
       "      <td>Interaction Design</td>\n",
       "      <td>Bachelors</td>\n",
       "      <td>77400</td>\n",
       "      <td>178800</td>\n",
       "      <td>55</td>\n",
       "    </tr>\n",
       "    <tr>\n",
       "      <th>5</th>\n",
       "      <td>Building Science</td>\n",
       "      <td>Bachelors</td>\n",
       "      <td>71100</td>\n",
       "      <td>172400</td>\n",
       "      <td>46</td>\n",
       "    </tr>\n",
       "  </tbody>\n",
       "</table>\n",
       "</div>"
      ],
      "text/plain": [
       "                                                 Major Degree Type  \\\n",
       "Rank                                                                 \n",
       "1                                Petroleum Engineering   Bachelors   \n",
       "2         Operations Research & Industrial Engineering   Bachelors   \n",
       "3     Electrical Engineering & Computer Science (EECS)   Bachelors   \n",
       "4                                   Interaction Design   Bachelors   \n",
       "5                                     Building Science   Bachelors   \n",
       "\n",
       "     Early Career Pay Mid-Career Pay % High Meaning  \n",
       "Rank                                                 \n",
       "1               98100         212100             60  \n",
       "2              101200         202600             21  \n",
       "3              128500         192300             45  \n",
       "4               77400         178800             55  \n",
       "5               71100         172400             46  "
      ]
     },
     "execution_count": 8,
     "metadata": {},
     "output_type": "execute_result"
    }
   ],
   "source": [
    "df.head()"
   ]
  },
  {
   "cell_type": "markdown",
   "id": "5e0a3e56-5180-49b1-9c84-980fbd891a93",
   "metadata": {},
   "source": [
    "when I was scraping the data, I show that there where some values with '-', in python words nan, let us replace '-' with nan."
   ]
  },
  {
   "cell_type": "code",
   "execution_count": 9,
   "id": "c846a2ee-0670-4593-9dd6-d0e267a7285b",
   "metadata": {},
   "outputs": [
    {
     "name": "stdout",
     "output_type": "stream",
     "text": [
      "% High Meaning:  55\n",
      "Mid-Career Pay:  0\n",
      "Early Career Pay 0\n"
     ]
    }
   ],
   "source": [
    "print(\"% High Meaning: \", len(df[df['% High Meaning'] == '-']))\n",
    "print(\"Mid-Career Pay: \", len(df[df['Mid-Career Pay'] == '-']))\n",
    "print(\"Early Career Pay\", len(df[df['Early Career Pay'] == '-']))"
   ]
  },
  {
   "cell_type": "code",
   "execution_count": 10,
   "id": "bc905b7f-aa9e-4636-a763-098a065f829a",
   "metadata": {},
   "outputs": [],
   "source": [
    "df['% High Meaning'] = df['% High Meaning'].replace('-', None)"
   ]
  },
  {
   "cell_type": "code",
   "execution_count": 11,
   "id": "6c1a7e37-0bd1-40e2-b551-6cdf0e6acaeb",
   "metadata": {},
   "outputs": [
    {
     "name": "stdout",
     "output_type": "stream",
     "text": [
      "% High Meaning:  0\n"
     ]
    }
   ],
   "source": [
    "print(\"% High Meaning: \", len(df[df['% High Meaning'] == '-']))"
   ]
  },
  {
   "cell_type": "code",
   "execution_count": 12,
   "id": "de481f98-564c-463e-9431-3deea5c1da8a",
   "metadata": {
    "scrolled": true
   },
   "outputs": [],
   "source": [
    "#convert the data type.\n",
    "df['Early Career Pay']= df['Early Career Pay'].astype(\"Int64\")\n",
    "df['Mid-Career Pay']= df['Mid-Career Pay'].astype(\"Int64\")"
   ]
  },
  {
   "cell_type": "code",
   "execution_count": 13,
   "id": "c897a68a-223f-4424-8592-c7d771a30b48",
   "metadata": {},
   "outputs": [
    {
     "data": {
      "text/plain": [
       "55"
      ]
     },
     "execution_count": 13,
     "metadata": {},
     "output_type": "execute_result"
    }
   ],
   "source": [
    "df['% High Meaning'].isna().sum()"
   ]
  },
  {
   "cell_type": "markdown",
   "id": "3e574b46-945d-4d3e-8368-d8a17e6292d4",
   "metadata": {},
   "source": [
    "We cannot directly cast it to int because we have nan values in the column mentioned above. "
   ]
  },
  {
   "cell_type": "code",
   "execution_count": 14,
   "id": "44e6483d-139b-4882-99ea-68b4bac9d62a",
   "metadata": {},
   "outputs": [],
   "source": [
    "df['% High Meaning'] = df['% High Meaning'].astype('Int64')"
   ]
  },
  {
   "cell_type": "code",
   "execution_count": 15,
   "id": "ad2ef2c1-17d1-49f4-80d5-85faeaa5625c",
   "metadata": {},
   "outputs": [
    {
     "name": "stdout",
     "output_type": "stream",
     "text": [
      "<class 'pandas.core.frame.DataFrame'>\n",
      "Index: 763 entries, 1 to 763\n",
      "Data columns (total 5 columns):\n",
      " #   Column            Non-Null Count  Dtype \n",
      "---  ------            --------------  ----- \n",
      " 0   Major             763 non-null    object\n",
      " 1   Degree Type       763 non-null    object\n",
      " 2   Early Career Pay  763 non-null    Int64 \n",
      " 3   Mid-Career Pay    763 non-null    Int64 \n",
      " 4   % High Meaning    708 non-null    Int64 \n",
      "dtypes: Int64(3), object(2)\n",
      "memory usage: 38.0+ KB\n"
     ]
    }
   ],
   "source": [
    "df.info()"
   ]
  },
  {
   "cell_type": "markdown",
   "id": "4ae52f90-c0e9-4d4d-bd70-9aa5d47b788c",
   "metadata": {},
   "source": [
    "hur·rah! we have successfully cleaned our data.. we shall **export** the data frame to **CSV** and **save** it into the data folder."
   ]
  },
  {
   "cell_type": "code",
   "execution_count": 16,
   "id": "886625a4-3e2c-4c2c-94f1-d3d5bae39e46",
   "metadata": {},
   "outputs": [],
   "source": [
    "df.to_csv(\"../data/clean_data.csv\")"
   ]
  }
 ],
 "metadata": {
  "kernelspec": {
   "display_name": "Python 3 (ipykernel)",
   "language": "python",
   "name": "python3"
  },
  "language_info": {
   "codemirror_mode": {
    "name": "ipython",
    "version": 3
   },
   "file_extension": ".py",
   "mimetype": "text/x-python",
   "name": "python",
   "nbconvert_exporter": "python",
   "pygments_lexer": "ipython3",
   "version": "3.12.7"
  }
 },
 "nbformat": 4,
 "nbformat_minor": 5
}
