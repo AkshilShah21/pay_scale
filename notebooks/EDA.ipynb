{
 "cells": [
  {
   "cell_type": "markdown",
   "id": "d4e010ec-4e4b-4759-aa7a-a2af9c03d90a",
   "metadata": {},
   "source": [
    "## EDA"
   ]
  },
  {
   "cell_type": "code",
   "execution_count": 1,
   "id": "fc87e665-c433-402f-9dce-8a2113fd614e",
   "metadata": {},
   "outputs": [],
   "source": [
    "import pandas as pd"
   ]
  },
  {
   "cell_type": "code",
   "execution_count": 2,
   "id": "7db0014b-9ee9-41d5-92e2-4dd2d2d7b1e1",
   "metadata": {},
   "outputs": [],
   "source": [
    "df = pd.read_csv(\"../data/clean_data.csv\")"
   ]
  },
  {
   "cell_type": "code",
   "execution_count": 3,
   "id": "956390ad-1dd3-4ed5-b8d9-f94637da95ac",
   "metadata": {},
   "outputs": [
    {
     "data": {
      "text/html": [
       "<div>\n",
       "<style scoped>\n",
       "    .dataframe tbody tr th:only-of-type {\n",
       "        vertical-align: middle;\n",
       "    }\n",
       "\n",
       "    .dataframe tbody tr th {\n",
       "        vertical-align: top;\n",
       "    }\n",
       "\n",
       "    .dataframe thead th {\n",
       "        text-align: right;\n",
       "    }\n",
       "</style>\n",
       "<table border=\"1\" class=\"dataframe\">\n",
       "  <thead>\n",
       "    <tr style=\"text-align: right;\">\n",
       "      <th></th>\n",
       "      <th>Rank</th>\n",
       "      <th>Major</th>\n",
       "      <th>Degree Type</th>\n",
       "      <th>Early Career Pay</th>\n",
       "      <th>Mid-Career Pay</th>\n",
       "      <th>% High Meaning</th>\n",
       "    </tr>\n",
       "  </thead>\n",
       "  <tbody>\n",
       "    <tr>\n",
       "      <th>0</th>\n",
       "      <td>1</td>\n",
       "      <td>Petroleum Engineering</td>\n",
       "      <td>Bachelors</td>\n",
       "      <td>98100</td>\n",
       "      <td>212100</td>\n",
       "      <td>60.0</td>\n",
       "    </tr>\n",
       "    <tr>\n",
       "      <th>1</th>\n",
       "      <td>2</td>\n",
       "      <td>Operations Research &amp; Industrial Engineering</td>\n",
       "      <td>Bachelors</td>\n",
       "      <td>101200</td>\n",
       "      <td>202600</td>\n",
       "      <td>21.0</td>\n",
       "    </tr>\n",
       "    <tr>\n",
       "      <th>2</th>\n",
       "      <td>3</td>\n",
       "      <td>Electrical Engineering &amp; Computer Science (EECS)</td>\n",
       "      <td>Bachelors</td>\n",
       "      <td>128500</td>\n",
       "      <td>192300</td>\n",
       "      <td>45.0</td>\n",
       "    </tr>\n",
       "    <tr>\n",
       "      <th>3</th>\n",
       "      <td>4</td>\n",
       "      <td>Interaction Design</td>\n",
       "      <td>Bachelors</td>\n",
       "      <td>77400</td>\n",
       "      <td>178800</td>\n",
       "      <td>55.0</td>\n",
       "    </tr>\n",
       "    <tr>\n",
       "      <th>4</th>\n",
       "      <td>5</td>\n",
       "      <td>Building Science</td>\n",
       "      <td>Bachelors</td>\n",
       "      <td>71100</td>\n",
       "      <td>172400</td>\n",
       "      <td>46.0</td>\n",
       "    </tr>\n",
       "  </tbody>\n",
       "</table>\n",
       "</div>"
      ],
      "text/plain": [
       "   Rank                                             Major Degree Type  \\\n",
       "0     1                             Petroleum Engineering   Bachelors   \n",
       "1     2      Operations Research & Industrial Engineering   Bachelors   \n",
       "2     3  Electrical Engineering & Computer Science (EECS)   Bachelors   \n",
       "3     4                                Interaction Design   Bachelors   \n",
       "4     5                                  Building Science   Bachelors   \n",
       "\n",
       "   Early Career Pay  Mid-Career Pay  % High Meaning  \n",
       "0             98100          212100            60.0  \n",
       "1            101200          202600            21.0  \n",
       "2            128500          192300            45.0  \n",
       "3             77400          178800            55.0  \n",
       "4             71100          172400            46.0  "
      ]
     },
     "execution_count": 3,
     "metadata": {},
     "output_type": "execute_result"
    }
   ],
   "source": [
    "df.head()"
   ]
  },
  {
   "cell_type": "markdown",
   "id": "8b8ff88e-fb1d-4452-9c73-57ff2c6d12a2",
   "metadata": {},
   "source": [
    "### About the data \n",
    "\n",
    "The data is web scraped from the \"https://www.payscale.com/college-salary-report/majors-that-pay-you-back/bachelors\". The data represents the highest-paying jobs with a bachelor's degree holder in different majors. It also contains yearly pay since the start of the career and the middle of the career in dollars($). %High Meaning is the alumni who says their job makes the world a better places in percentages(%)."
   ]
  },
  {
   "cell_type": "code",
   "execution_count": 4,
   "id": "7b69f452-6fd6-443b-bfb1-339c21a3605a",
   "metadata": {},
   "outputs": [
    {
     "name": "stdout",
     "output_type": "stream",
     "text": [
      "<class 'pandas.core.frame.DataFrame'>\n",
      "RangeIndex: 763 entries, 0 to 762\n",
      "Data columns (total 6 columns):\n",
      " #   Column            Non-Null Count  Dtype  \n",
      "---  ------            --------------  -----  \n",
      " 0   Rank              763 non-null    int64  \n",
      " 1   Major             763 non-null    object \n",
      " 2   Degree Type       763 non-null    object \n",
      " 3   Early Career Pay  763 non-null    int64  \n",
      " 4   Mid-Career Pay    763 non-null    int64  \n",
      " 5   % High Meaning    708 non-null    float64\n",
      "dtypes: float64(1), int64(3), object(2)\n",
      "memory usage: 35.9+ KB\n"
     ]
    }
   ],
   "source": [
    "df.info()"
   ]
  },
  {
   "cell_type": "markdown",
   "id": "289925a6-1421-4296-b22b-f1e359ec21ab",
   "metadata": {},
   "source": [
    "### Descriptive Statistical Analysis "
   ]
  },
  {
   "cell_type": "code",
   "execution_count": 5,
   "id": "09598be5-ecec-45f1-b10c-4ec35484f60f",
   "metadata": {
    "scrolled": true
   },
   "outputs": [
    {
     "data": {
      "text/html": [
       "<div>\n",
       "<style scoped>\n",
       "    .dataframe tbody tr th:only-of-type {\n",
       "        vertical-align: middle;\n",
       "    }\n",
       "\n",
       "    .dataframe tbody tr th {\n",
       "        vertical-align: top;\n",
       "    }\n",
       "\n",
       "    .dataframe thead th {\n",
       "        text-align: right;\n",
       "    }\n",
       "</style>\n",
       "<table border=\"1\" class=\"dataframe\">\n",
       "  <thead>\n",
       "    <tr style=\"text-align: right;\">\n",
       "      <th></th>\n",
       "      <th>Early Career Pay</th>\n",
       "      <th>Mid-Career Pay</th>\n",
       "      <th>% High Meaning</th>\n",
       "    </tr>\n",
       "  </thead>\n",
       "  <tbody>\n",
       "    <tr>\n",
       "      <th>count</th>\n",
       "      <td>763.000000</td>\n",
       "      <td>763.000000</td>\n",
       "      <td>708.000000</td>\n",
       "    </tr>\n",
       "    <tr>\n",
       "      <th>mean</th>\n",
       "      <td>61681.520315</td>\n",
       "      <td>101476.408912</td>\n",
       "      <td>53.764124</td>\n",
       "    </tr>\n",
       "    <tr>\n",
       "      <th>std</th>\n",
       "      <td>11627.792157</td>\n",
       "      <td>24459.707490</td>\n",
       "      <td>13.502978</td>\n",
       "    </tr>\n",
       "    <tr>\n",
       "      <th>min</th>\n",
       "      <td>39600.000000</td>\n",
       "      <td>46600.000000</td>\n",
       "      <td>18.000000</td>\n",
       "    </tr>\n",
       "    <tr>\n",
       "      <th>25%</th>\n",
       "      <td>53050.000000</td>\n",
       "      <td>83750.000000</td>\n",
       "      <td>44.000000</td>\n",
       "    </tr>\n",
       "    <tr>\n",
       "      <th>50%</th>\n",
       "      <td>58900.000000</td>\n",
       "      <td>97400.000000</td>\n",
       "      <td>52.000000</td>\n",
       "    </tr>\n",
       "    <tr>\n",
       "      <th>75%</th>\n",
       "      <td>69000.000000</td>\n",
       "      <td>115400.000000</td>\n",
       "      <td>63.000000</td>\n",
       "    </tr>\n",
       "    <tr>\n",
       "      <th>max</th>\n",
       "      <td>128500.000000</td>\n",
       "      <td>212100.000000</td>\n",
       "      <td>95.000000</td>\n",
       "    </tr>\n",
       "  </tbody>\n",
       "</table>\n",
       "</div>"
      ],
      "text/plain": [
       "       Early Career Pay  Mid-Career Pay  % High Meaning\n",
       "count        763.000000      763.000000      708.000000\n",
       "mean       61681.520315   101476.408912       53.764124\n",
       "std        11627.792157    24459.707490       13.502978\n",
       "min        39600.000000    46600.000000       18.000000\n",
       "25%        53050.000000    83750.000000       44.000000\n",
       "50%        58900.000000    97400.000000       52.000000\n",
       "75%        69000.000000   115400.000000       63.000000\n",
       "max       128500.000000   212100.000000       95.000000"
      ]
     },
     "execution_count": 5,
     "metadata": {},
     "output_type": "execute_result"
    }
   ],
   "source": [
    "df[['Early Career Pay' ,'Mid-Career Pay', '% High Meaning']].describe()"
   ]
  },
  {
   "cell_type": "markdown",
   "id": "c12a5223-9d29-4d97-b379-b1ff832ea224",
   "metadata": {},
   "source": [
    "- The count of \"High Meaning\" values is lower, indicating the presence of some NaN entries.\n",
    "- The minimum starting pay is \\\\$39,600, while the maximum is \\\\$128,500. For mid-career pay, the minimum is \\\\$46,600, and the maximum is \\\\$212,100.\n",
    "- A large standard deviation and the maximum value of \\\\$212,100 suggest a significant salary disparity among mid-career individuals\n",
    "- Regarding outliers, there may be high-value outliers in the pay columns. This is supported by the fact that the median exceeds the mean, indicating a slightly right-skewed distribution.\n",
    "- The \"% High Meaning\" column shows that the mean and median values are nearly identical, suggesting the possibility of a normal distribution."
   ]
  },
  {
   "cell_type": "markdown",
   "id": "92fad138-fc94-4566-b9f8-6985aba446a0",
   "metadata": {},
   "source": [
    "### Questions"
   ]
  },
  {
   "cell_type": "markdown",
   "id": "1d6ccad5-3f7f-42e3-9a3d-3e226976e6d4",
   "metadata": {},
   "source": [
    "#### 1. What major has the highest Mid-salary and Early Salary?"
   ]
  },
  {
   "cell_type": "code",
   "execution_count": 6,
   "id": "f96c7956-93c1-4511-a5c6-33b9cc009416",
   "metadata": {},
   "outputs": [
    {
     "name": "stdout",
     "output_type": "stream",
     "text": [
      "Early Career Pay\n",
      "Rank                                                               3\n",
      "Major               Electrical Engineering & Computer Science (EECS)\n",
      "Degree Type                                                Bachelors\n",
      "Early Career Pay                                              128500\n",
      "Mid-Career Pay                                                192300\n",
      "% High Meaning                                                  45.0\n",
      "Name: 2, dtype: object\n"
     ]
    }
   ],
   "source": [
    "max_index = df['Early Career Pay'].idxmax()\n",
    "print(\"Early Career Pay\")\n",
    "print(df.loc[max_index])"
   ]
  },
  {
   "cell_type": "markdown",
   "id": "a02b84cd-298e-46a2-aea8-1a80dd3946b9",
   "metadata": {},
   "source": [
    "- EECS is one of the best careers to pursue, giving you the early dream of a package whooping 128500 dollars a year.\n",
    "- Also, the salary hike is significantly higher than 90% of the individuals in the dataset.\n",
    "- However, despite the high financial rewards, the career seems to have a relatively low 'high meaning' score, with only about 25% of the sample population reporting high job satisfaction or meaning.\n",
    "As with many high-paying careers, stress is often a byproduct of the money earned!"
   ]
  },
  {
   "cell_type": "code",
   "execution_count": 7,
   "id": "7f027e51-1e35-45ac-9147-b394c9bd757d",
   "metadata": {},
   "outputs": [
    {
     "name": "stdout",
     "output_type": "stream",
     "text": [
      "Mid-Career Pay\n",
      "Rank                                    1\n",
      "Major               Petroleum Engineering\n",
      "Degree Type                     Bachelors\n",
      "Early Career Pay                    98100\n",
      "Mid-Career Pay                     212100\n",
      "% High Meaning                       60.0\n",
      "Name: 0, dtype: object\n"
     ]
    }
   ],
   "source": [
    "max_index = df['Mid-Career Pay'].idxmax()\n",
    "print(\"Mid-Career Pay\")\n",
    "print(df.loc[max_index])"
   ]
  },
  {
   "cell_type": "markdown",
   "id": "0016d195-3792-4701-b186-bf9b2a7dc106",
   "metadata": {},
   "source": [
    "- Petroleum Engineering may not have had the highest early-career pay, but it still stands strong with a starting salary of \\\\$98,100, higher than 75% of the other fields in the dataset.\n",
    "- Looks like top performance in this industry can truly lead to the highest rewards! reaching to the top \\\\$212,100 per year."
   ]
  },
  {
   "cell_type": "markdown",
   "id": "0183dbdf-8e68-4db4-8bd5-391826d74da7",
   "metadata": {},
   "source": [
    "#### 2. What major has the Lowest Mid-salary and Early Salary?"
   ]
  },
  {
   "cell_type": "code",
   "execution_count": 8,
   "id": "dd144f29-9d43-42de-8769-a3ce68a9d6a1",
   "metadata": {},
   "outputs": [
    {
     "name": "stdout",
     "output_type": "stream",
     "text": [
      "Early Career Pay\n",
      "Rank                          735\n",
      "Major               Voice & Opera\n",
      "Degree Type             Bachelors\n",
      "Early Career Pay            39600\n",
      "Mid-Career Pay              65100\n",
      "% High Meaning               52.0\n",
      "Name: 735, dtype: object\n"
     ]
    }
   ],
   "source": [
    "min_index = df['Early Career Pay'].idxmin()\n",
    "print(\"Early Career Pay\")\n",
    "print(df.loc[min_index])"
   ]
  },
  {
   "cell_type": "markdown",
   "id": "4ec0fc0b-30b6-4aeb-91b3-5677e1ec40f3",
   "metadata": {},
   "source": [
    "- If you're aiming to get rich, Opera might not be the right choice. It starts with a lower salary and, even after years of hard work, the mid-career pay still falls below 25% of the sample population.\n",
    "- On the bright side, Opera offers more meaning in comparison to higher-paying careers, providing a greater sense of purpose to those in the field. (It might be worth exploring the relationship between higher meaning and salary in the graph.) "
   ]
  },
  {
   "cell_type": "code",
   "execution_count": 12,
   "id": "77190627-d165-45d5-8d20-3ea417e259db",
   "metadata": {},
   "outputs": [
    {
     "name": "stdout",
     "output_type": "stream",
     "text": [
      "Mid-Career Pay\n",
      "Rank                          763\n",
      "Major               Metalsmithing\n",
      "Degree Type             Bachelors\n",
      "Early Career Pay            45900\n",
      "Mid-Career Pay              46600\n",
      "% High Meaning               36.0\n",
      "Name: 762, dtype: object\n"
     ]
    }
   ],
   "source": [
    "min_index = df['Mid-Career Pay'].idxmin()\n",
    "print(\"Mid-Career Pay\")\n",
    "print(df.loc[min_index])"
   ]
  },
  {
   "cell_type": "markdown",
   "id": "f59e27e8-a1fb-4e3a-bebe-40f3d8526918",
   "metadata": {},
   "source": [
    "- After all the physical toll of working the forge, you can expect only a modest increase in mid-career pay.\n",
    "- Considering inflation, it might even feel like you're earning less over time. "
   ]
  },
  {
   "cell_type": "markdown",
   "id": "acd0e282-ade3-4994-9f05-bf2c6870fdec",
   "metadata": {},
   "source": [
    "#### 3. Group By the Major"
   ]
  },
  {
   "cell_type": "code",
   "execution_count": 13,
   "id": "1a171dad-baf7-4e7b-a3c4-ede5ccfb00a8",
   "metadata": {},
   "outputs": [
    {
     "data": {
      "text/plain": [
       "763"
      ]
     },
     "execution_count": 13,
     "metadata": {},
     "output_type": "execute_result"
    }
   ],
   "source": [
    "len(df['Major'].unique())"
   ]
  },
  {
   "cell_type": "markdown",
   "id": "6217b3b6-d35c-4d4e-9b8b-95e0d74e2b04",
   "metadata": {},
   "source": [
    "- 763 is the unique value in the major, which is the length of the data.\n",
    "- Not a catagorical field. "
   ]
  }
 ],
 "metadata": {
  "kernelspec": {
   "display_name": "Python 3 (ipykernel)",
   "language": "python",
   "name": "python3"
  },
  "language_info": {
   "codemirror_mode": {
    "name": "ipython",
    "version": 3
   },
   "file_extension": ".py",
   "mimetype": "text/x-python",
   "name": "python",
   "nbconvert_exporter": "python",
   "pygments_lexer": "ipython3",
   "version": "3.12.7"
  }
 },
 "nbformat": 4,
 "nbformat_minor": 5
}
